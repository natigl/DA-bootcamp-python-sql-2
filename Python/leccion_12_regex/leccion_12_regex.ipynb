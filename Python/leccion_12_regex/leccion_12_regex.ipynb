{
 "cells": [
  {
   "attachments": {},
   "cell_type": "markdown",
   "metadata": {},
   "source": [
    "**1. Extraer el email de la persona que envió el email (os deberían salir 2).**\n"
   ]
  },
  {
   "cell_type": "code",
   "execution_count": 3,
   "metadata": {},
   "outputs": [],
   "source": [
    "import re"
   ]
  },
  {
   "cell_type": "code",
   "execution_count": 8,
   "metadata": {},
   "outputs": [],
   "source": [
    "with open ('email.txt','r') as f:\n",
    "    email = f.read()\n",
    "    f.close()"
   ]
  },
  {
   "cell_type": "code",
   "execution_count": 9,
   "metadata": {},
   "outputs": [
    {
     "data": {
      "text/plain": [
       "'[\\'From: \"Mr. Ben Suleman\" <bensul2004nng@spinfinder.com>\\', \\'From: \"MR. JAMES NGOLA.\" <james_ngola2002@maktoob.com>\\']'"
      ]
     },
     "execution_count": 9,
     "metadata": {},
     "output_type": "execute_result"
    }
   ],
   "source": [
    "info_remitente = str(re.findall('From:.*',email))\n",
    "info_remitente"
   ]
  },
  {
   "cell_type": "code",
   "execution_count": 10,
   "metadata": {},
   "outputs": [
    {
     "data": {
      "text/plain": [
       "['bensul2004nng@spinfinder.com', 'james_ngola2002@maktoob.com']"
      ]
     },
     "execution_count": 10,
     "metadata": {},
     "output_type": "execute_result"
    }
   ],
   "source": [
    "patron_correo = '\\w+\\d+\\w+@\\w+\\.\\w+'\n",
    "correos = re.findall( patron_correo, info_remitente)\n",
    "correos"
   ]
  },
  {
   "attachments": {},
   "cell_type": "markdown",
   "metadata": {},
   "source": [
    "**2. Extraer el nombre de la persona que envió el email (os deberían salir 2).**"
   ]
  },
  {
   "cell_type": "code",
   "execution_count": 11,
   "metadata": {},
   "outputs": [],
   "source": [
    "patron_nombres = 'M[rR]\\.\\s\\w+\\s\\w+'"
   ]
  },
  {
   "cell_type": "code",
   "execution_count": 12,
   "metadata": {},
   "outputs": [
    {
     "data": {
      "text/plain": [
       "['Mr. Ben Suleman', 'MR. JAMES NGOLA']"
      ]
     },
     "execution_count": 12,
     "metadata": {},
     "output_type": "execute_result"
    }
   ],
   "source": [
    "nombres = re.findall(patron_nombres, info_remitente)\n",
    "nombres"
   ]
  },
  {
   "attachments": {},
   "cell_type": "markdown",
   "metadata": {},
   "source": [
    "**3.  El día en el que se mandó el email (os deberían salir 2).**"
   ]
  },
  {
   "cell_type": "code",
   "execution_count": 15,
   "metadata": {},
   "outputs": [],
   "source": [
    "fechas_correo = re.findall('Date:.*',email)\n",
    "fechas_correo = str(fechas_correo)"
   ]
  },
  {
   "cell_type": "code",
   "execution_count": 13,
   "metadata": {},
   "outputs": [],
   "source": [
    "patron_dias = '\\d+\\s\\w+\\s\\d+'"
   ]
  },
  {
   "cell_type": "code",
   "execution_count": 16,
   "metadata": {},
   "outputs": [
    {
     "data": {
      "text/plain": [
       "['31 Oct 2002', '31 Oct 2002']"
      ]
     },
     "execution_count": 16,
     "metadata": {},
     "output_type": "execute_result"
    }
   ],
   "source": [
    "dias = re.findall(patron_dias, fechas_correo)\n",
    "dias"
   ]
  },
  {
   "attachments": {},
   "cell_type": "markdown",
   "metadata": {},
   "source": [
    "**4. El asunto del email (os deberían salir 2).**"
   ]
  },
  {
   "cell_type": "code",
   "execution_count": 17,
   "metadata": {},
   "outputs": [
    {
     "data": {
      "text/plain": [
       "\"['Subject: URGENT ASSISTANCE /RELATIONSHIP (P)', 'Subject: URGENT BUSINESS ASSISTANCE AND PARTNERSHIP']\""
      ]
     },
     "execution_count": 17,
     "metadata": {},
     "output_type": "execute_result"
    }
   ],
   "source": [
    "asunto_correo = str(re.findall('Subject:.*', email))\n",
    "asunto_correo"
   ]
  },
  {
   "cell_type": "code",
   "execution_count": 18,
   "metadata": {},
   "outputs": [],
   "source": [
    "patron_asunto1 = '[U]\\w+\\s\\w+\\s\\w+\\s\\w+\\s\\w+'"
   ]
  },
  {
   "cell_type": "code",
   "execution_count": 19,
   "metadata": {},
   "outputs": [],
   "source": [
    "patron_asunto2 = '[U]\\w+\\s\\w+\\s\\/\\w+\\s\\(P\\)'"
   ]
  },
  {
   "cell_type": "code",
   "execution_count": 66,
   "metadata": {},
   "outputs": [],
   "source": [
    "#patron_asunto = '(U.*)'"
   ]
  },
  {
   "cell_type": "code",
   "execution_count": 20,
   "metadata": {},
   "outputs": [
    {
     "data": {
      "text/plain": [
       "['URGENT BUSINESS ASSISTANCE AND PARTNERSHIP']"
      ]
     },
     "execution_count": 20,
     "metadata": {},
     "output_type": "execute_result"
    }
   ],
   "source": [
    "asunto_correo1 = re.findall(patron_asunto1, asunto_correo)\n",
    "asunto_correo1"
   ]
  },
  {
   "cell_type": "code",
   "execution_count": 21,
   "metadata": {},
   "outputs": [
    {
     "data": {
      "text/plain": [
       "['URGENT ASSISTANCE /RELATIONSHIP (P)']"
      ]
     },
     "execution_count": 21,
     "metadata": {},
     "output_type": "execute_result"
    }
   ],
   "source": [
    "asunto_correo2 = re.findall(patron_asunto2, asunto_correo)\n",
    "asunto_correo2"
   ]
  },
  {
   "attachments": {},
   "cell_type": "markdown",
   "metadata": {},
   "source": [
    "**5. Guarda todos los resultados en un diccionario**"
   ]
  },
  {
   "cell_type": "code",
   "execution_count": 22,
   "metadata": {},
   "outputs": [],
   "source": [
    "def guardado_de_datos(email):\n",
    "    datos={'email':correos,\n",
    "           'nombre':nombres,\n",
    "           'fechas':dias,\n",
    "           'asunto': asunto_correo1 + asunto_correo2}\n",
    "    return datos"
   ]
  },
  {
   "cell_type": "code",
   "execution_count": 23,
   "metadata": {},
   "outputs": [
    {
     "data": {
      "text/plain": [
       "{'email': ['bensul2004nng@spinfinder.com', 'james_ngola2002@maktoob.com'],\n",
       " 'nombre': ['Mr. Ben Suleman', 'MR. JAMES NGOLA'],\n",
       " 'fechas': ['31 Oct 2002', '31 Oct 2002'],\n",
       " 'asunto': ['URGENT BUSINESS ASSISTANCE AND PARTNERSHIP',\n",
       "  'URGENT ASSISTANCE /RELATIONSHIP (P)']}"
      ]
     },
     "execution_count": 23,
     "metadata": {},
     "output_type": "execute_result"
    }
   ],
   "source": [
    "guardado_de_datos(email)"
   ]
  }
 ],
 "metadata": {
  "kernelspec": {
   "display_name": "Python 3.9.7 ('base')",
   "language": "python",
   "name": "python3"
  },
  "language_info": {
   "codemirror_mode": {
    "name": "ipython",
    "version": 3
   },
   "file_extension": ".py",
   "mimetype": "text/x-python",
   "name": "python",
   "nbconvert_exporter": "python",
   "pygments_lexer": "ipython3",
   "version": "3.9.7"
  },
  "orig_nbformat": 4,
  "vscode": {
   "interpreter": {
    "hash": "ebacf0c690606339d2819fda86ce84d5dc8f19bdafd30d1cf039ac39003e3ee9"
   }
  }
 },
 "nbformat": 4,
 "nbformat_minor": 2
}
