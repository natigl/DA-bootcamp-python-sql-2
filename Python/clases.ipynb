{
 "cells": [
  {
   "attachments": {},
   "cell_type": "markdown",
   "metadata": {},
   "source": [
    "**En este ejercicio de pair programming crearemos una clase. Imaginemos que nuestro jefe nos pide que creemos una clase para tener más ordenada la información sobre cada uno de los empleados de la empresa. Para ello:**\n",
    "\n",
    "- Definid una clase que se llame Empleados\n",
    "- Definid los siguientes atributos que caracterizan a nuestros empleados:\n",
    "    - nombre\n",
    "    - apellido\n",
    "    - edad\n",
    "    - posición que ocupa en la empresa\n",
    "    - año en que entró en la empresa\n",
    "    - número de días de vacaciones que tiene\n",
    "\n",
    "- Las herramientas que usa cada uno de ellos, por ejemplo, Outlook, excel y word. Deberá ser una lista.\n",
    "- Cread una instancia para la clase creada\n",
    "  - Definid los siguientes métodos:\n",
    "     - descripción\n",
    "     - calculo_vacaciones\n",
    "     - cambiando_posicion\n",
    "\n",
    "- Tips para definir los métodos:\n",
    "- Método descripcion:\n",
    "    - El return deberá ser un string en el que aparezca el nombre, apellidos, los años que lleva en la empresa y los días de vacaciones que le quedan. Este método deberá devolver algo como esto:\n",
    "    \"El/ella, es Lorena, Data Analyst, quien lleva con nostros en la empresa desde 2000. Además este año le quedan 15 dias de vacaciones\"\n",
    "\n",
    "- Método calculo_vacaciones:\n",
    "    - Deberá contener input que nos pregunte cuántos días te quieres ir de vacaciones.\n",
    "    - Luego deberemos restar el número de días que se fue de vacaciones a el número total de vacaciones que tiene ese empleado.\n",
    "\n",
    "- Una condición que chequee si:\n",
    "    - Si el numero de vacaciones que tiene el empleado es igual a 0, devolved un mensaje que diga que se le acabaron las vacaciones\n",
    "    - Si el número de días que se quiere ir de vacaciones es mayor que el número de vacaciones que le quedan, devolved un mensaje que diga que no se puede ir tantos de vacaciones\n",
    "    - En caso de que no se cumplan ninguna de estas condiciones, que nos devuelva el número de vacaciones que le quedan al empleado.\n",
    "\n",
    "- Método cambiando_posicion:\n",
    "    - Iteraremos por la lista de herramientas que usa el empleado:\n",
    "    - Si el empleado usa \"Python\" devolveremos un mensaje de bien hecho!\n",
    "    - Si el empleado usa \"Excel\" le recomendaremos amigablemente que deje excel y empiece a usar Python"
   ]
  },
  {
   "cell_type": "code",
   "execution_count": 1,
   "metadata": {},
   "outputs": [],
   "source": [
    "class Empleados:\n",
    "    def __init__(self, nombre, apellido, edad, posicion_empresa, año_empresa, dias_vacaciones, herramientas_de_trabajo):\n",
    "        self.nombre = nombre.upper()\n",
    "        self.apellido = apellido\n",
    "        self.edad = edad\n",
    "        self.posicion_empresa = posicion_empresa\n",
    "        self.año_empresa = año_empresa\n",
    "        self.dias_vacaciones = dias_vacaciones\n",
    "        self.herramientas_de_trabajo = herramientas_de_trabajo\n",
    "\n",
    "\n",
    "    def descripcion (self):\n",
    "        return f'El/Ella, es { self.nombre} { self.apellido}, es {self.posicion_empresa } quien lleva con nosotros en la empresa {self.año_empresa}. Además este año le quedan {self.dias_vacaciones} días de vacaciones'\n",
    "\n",
    "    def calculo_vacaciones(self):\n",
    "        dias_vacaciones_pedidos = int(input(\"¿Cuantos días te quieres ir de vacaciones?:\"))\n",
    "        if int(self.dias_vacaciones) == 0:\n",
    "            return f'Se te han acabado los días de vacaciones'\n",
    "        elif dias_vacaciones_pedidos > int(self.dias_vacaciones):\n",
    "            return 'No tienes tantos días de vacaciones'\n",
    "        else:\n",
    "            return f'Te quedaran {int(self.dias_vacaciones) - dias_vacaciones_pedidos} dias de vacaciones'\n",
    "        \n",
    "    def cambio_posicion(self):\n",
    "        for herramienta in self.herramientas_de_trabajo:\n",
    "            if herramienta == 'Python':\n",
    "                return f'Bien hecho!' #Si hago return me saca del metodo, dejandome con el primer elemento que coincide con las caracterist. que yo he solicitado\n",
    "                \n",
    "            elif herramienta == 'Excel':\n",
    "                return f'Podria usted dejar de usar Excel y empezar a usar Python??'\n",
    "                \n",
    "            else:\n",
    "                continue\n",
    "        return f'Que otras herramientas conoces?' \n",
    "\n",
    "    "
   ]
  },
  {
   "cell_type": "code",
   "execution_count": 2,
   "metadata": {},
   "outputs": [],
   "source": [
    "\n",
    "maria = Empleados('maria', 'sachez', '53', 'PO', '1999', '25',['Outlook', 'Excel', 'Mathlab','Python'])\n",
    "pepe = Empleados('pepe', 'garcia', '25', 'Becario', '2022', '7',[])\n"
   ]
  },
  {
   "cell_type": "code",
   "execution_count": 3,
   "metadata": {},
   "outputs": [
    {
     "data": {
      "text/plain": [
       "'El/Ella, es MARIA sachez, es PO quien lleva con nosotros en la empresa 1999. Además este año le quedan 25 días de vacaciones'"
      ]
     },
     "execution_count": 3,
     "metadata": {},
     "output_type": "execute_result"
    }
   ],
   "source": [
    "maria.descripcion()\n",
    "#pepe.descripcion()"
   ]
  },
  {
   "cell_type": "code",
   "execution_count": 4,
   "metadata": {},
   "outputs": [
    {
     "data": {
      "text/plain": [
       "'Te quedaran 20 dias de vacaciones'"
      ]
     },
     "execution_count": 4,
     "metadata": {},
     "output_type": "execute_result"
    }
   ],
   "source": [
    "maria.calculo_vacaciones()"
   ]
  },
  {
   "cell_type": "code",
   "execution_count": 5,
   "metadata": {},
   "outputs": [
    {
     "data": {
      "text/plain": [
       "'Podria usted dejar de usar Excel y empezar a usar Python??'"
      ]
     },
     "execution_count": 5,
     "metadata": {},
     "output_type": "execute_result"
    }
   ],
   "source": [
    "maria.cambio_posicion()"
   ]
  },
  {
   "cell_type": "code",
   "execution_count": 6,
   "metadata": {},
   "outputs": [
    {
     "data": {
      "text/plain": [
       "'El/Ella, es PEPE garcia, es Becario quien lleva con nosotros en la empresa 2022. Además este año le quedan 7 días de vacaciones'"
      ]
     },
     "execution_count": 6,
     "metadata": {},
     "output_type": "execute_result"
    }
   ],
   "source": [
    "pepe.descripcion()"
   ]
  },
  {
   "cell_type": "code",
   "execution_count": 7,
   "metadata": {},
   "outputs": [
    {
     "data": {
      "text/plain": [
       "'Te quedaran 4 dias de vacaciones'"
      ]
     },
     "execution_count": 7,
     "metadata": {},
     "output_type": "execute_result"
    }
   ],
   "source": [
    "pepe.calculo_vacaciones()"
   ]
  },
  {
   "cell_type": "code",
   "execution_count": 8,
   "metadata": {},
   "outputs": [
    {
     "data": {
      "text/plain": [
       "'Que otras herramientas conoces?'"
      ]
     },
     "execution_count": 8,
     "metadata": {},
     "output_type": "execute_result"
    }
   ],
   "source": [
    "pepe.cambio_posicion()"
   ]
  }
 ],
 "metadata": {
  "kernelspec": {
   "display_name": "base",
   "language": "python",
   "name": "python3"
  },
  "language_info": {
   "codemirror_mode": {
    "name": "ipython",
    "version": 3
   },
   "file_extension": ".py",
   "mimetype": "text/x-python",
   "name": "python",
   "nbconvert_exporter": "python",
   "pygments_lexer": "ipython3",
   "version": "3.9.7"
  },
  "orig_nbformat": 4,
  "vscode": {
   "interpreter": {
    "hash": "ebacf0c690606339d2819fda86ce84d5dc8f19bdafd30d1cf039ac39003e3ee9"
   }
  }
 },
 "nbformat": 4,
 "nbformat_minor": 2
}
